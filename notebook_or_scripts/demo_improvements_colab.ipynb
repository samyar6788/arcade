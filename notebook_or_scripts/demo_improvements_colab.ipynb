{
  "cells": [
    {
      "cell_type": "markdown",
      "metadata": {},
      "source": [
        "# 🎯 Arcade AI Take-Home Challenge - Jewelry Image Generation\n",
        "\n",
        "## Enhanced Stable Diffusion for Modern Jewelry with Image RAG\n",
        "\n",
        "This notebook demonstrates improvements to Stable Diffusion for generating modern, prompt-accurate jewelry images.\n",
        "\n",
        "**Key Features:**\n",
        "- Enhanced prompt adherence for jewelry terminology\n",
        "- Modern aesthetic guidance (vs vintage/fussy styles)\n",
        "- Image RAG system for style-aware generation\n",
        "- Comprehensive evaluation metrics\n",
        "\n",
        "---\n"
      ]
    },
    {
      "cell_type": "markdown",
      "metadata": {},
      "source": [
        "## 🔧 Setup & Installation\n",
        "\n",
        "**Important:** Make sure to enable GPU in Colab:\n",
        "- Go to `Runtime` → `Change runtime type`\n",
        "- Set `Hardware accelerator` to `GPU`\n"
      ]
    },
    {
      "cell_type": "code",
      "execution_count": null,
      "metadata": {},
      "outputs": [],
      "source": [
        "# Install required packages\n",
        "%pip install torch torchvision diffusers transformers accelerate pillow numpy matplotlib scikit-learn requests faiss-cpu\n",
        "\n",
        "# Clone the repository\n",
        "!git clone https://github.com/samyar6788/arcade.git\n",
        "%cd arcade\n",
        "\n",
        "print(\"✅ Installation complete!\")\n"
      ]
    },
    {
      "cell_type": "code",
      "execution_count": null,
      "metadata": {},
      "outputs": [],
      "source": [
        "# Import required libraries\n",
        "import torch\n",
        "from PIL import Image\n",
        "import matplotlib.pyplot as plt\n",
        "import numpy as np\n",
        "from IPython.display import display\n",
        "import os\n",
        "import json\n",
        "from datetime import datetime\n",
        "import warnings\n",
        "warnings.filterwarnings('ignore')\n",
        "\n",
        "# Import our custom modules from the repository\n",
        "import sys\n",
        "sys.path.append('notebook_or_scripts')\n",
        "\n",
        "from jewelry_improvements import ImprovedJewelryPipeline, JewelryTermEmbeddings, ModernAestheticPrompting\n",
        "from evaluation_metrics import ComprehensiveEvaluator\n",
        "\n",
        "# Check device and GPU info\n",
        "device = \"cuda\" if torch.cuda.is_available() else \"cpu\"\n",
        "print(f\"🖥️  Using device: {device}\")\n",
        "if torch.cuda.is_available():\n",
        "    print(f\"🚀 GPU: {torch.cuda.get_device_name(0)}\")\n",
        "    print(f\"💾 GPU Memory: {torch.cuda.get_device_properties(0).total_memory / 1e9:.1f} GB\")\n",
        "else:\n",
        "    print(\"⚠️  Running on CPU - this will be slower!\")\n",
        "\n",
        "# Create directories for outputs\n",
        "os.makedirs(\"before_after\", exist_ok=True)\n",
        "os.makedirs(\"results\", exist_ok=True)\n",
        "\n",
        "print(\"\\n✅ Setup complete!\")\n"
      ]
    }
  ],
  "metadata": {
    "language_info": {
      "name": "python"
    }
  },
  "nbformat": 4,
  "nbformat_minor": 2
}
